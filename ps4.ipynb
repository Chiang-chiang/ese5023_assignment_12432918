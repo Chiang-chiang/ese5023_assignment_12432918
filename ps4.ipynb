{
 "cells": [
  {
   "cell_type": "code",
   "execution_count": null,
   "id": "d8b1b697-48e6-4a0a-9c14-aab9e9cbc8f6",
   "metadata": {},
   "outputs": [],
   "source": [
    "#04.1\n",
    "import pandas as pd\n",
    "import matplotlib.pyplot as plt\n",
    "import cartopy.crs as ccrs\n",
    "import cartopy.feature as cfeature\n",
    "df = pd.read_csv('usgs_earthquakes.csv')\n",
    "df_top50 = df.sort_values(by='mag', ascending=False).head(50)\n",
    "#绘图\n",
    "fig, ax = plt.subplots(figsize=(12, 8), subplot_kw={'projection': ccrs.PlateCarree()})\n",
    "ax.set_global()\n",
    "ax.add_feature(cfeature.LAND)\n",
    "ax.add_feature(cfeature.OCEAN)\n",
    "ax.add_feature(cfeature.COASTLINE)\n",
    "ax.add_feature(cfeature.BORDERS, linestyle=':')\n",
    "#绘制地震点\n",
    "sizes = df_top50['mag'] * 10\n",
    "scatter = ax.scatter(df_top50['longitude'], df_top50['latitude'], c=df_top50['mag'], s=sizes, cmap='Reds', alpha=0.6, edgecolor='none')\n",
    "cbar = plt.colorbar(scatter, ax=ax, orientation='vertical', shrink=0.5)\n",
    "cbar.set_label('Magnitude')\n",
    "plt.title('Top 50 Earthquakes')\n",
    "plt.show()"
   ]
  },
  {
   "cell_type": "code",
   "execution_count": null,
   "id": "847080c4-89cb-4122-9166-44b87af95c3c",
   "metadata": {},
   "outputs": [],
   "source": [
    "import netCDF4 as nc\n",
    "import numpy as np\n",
    "import matplotlib.pyplot as plt\n",
    "import cartopy.crs as ccrs\n",
    "import cartopy.feature as cfeature\n",
    "#用的是作业3甲烷的文件\n",
    "#4.2.1\n",
    "dataset = nc.Dataset('200301_202006-C3S-L3_GHG-PRODUCTS-OBS4MIPS-MERGED-v4.3.nc')\n",
    "lats = dataset.variables['lat'][:]\n",
    "lons = dataset.variables['lon'][:]\n",
    "xch4 = dataset.variables['xch4'][0, :, :] \n",
    "fig = plt.figure(figsize=(14, 7))\n",
    "ax = fig.add_subplot(1, 1, 1, projection=ccrs.PlateCarree())\n",
    "ax.set_global()\n",
    "ax.add_feature(cfeature.LAND)\n",
    "ax.add_feature(cfeature.OCEAN)\n",
    "ax.add_feature(cfeature.COASTLINE)\n",
    "ax.add_feature(cfeature.BORDERS, linestyle=':')\n",
    "ax.gridlines(draw_labels=True)\n",
    "cbar = ax.pcolormesh(lons, lats, xch4, transform=ccrs.PlateCarree(), cmap='Reds')\n",
    "plt.colorbar(cbar, ax=ax, orientation='vertical', shrink=0.5, label='CH4 Concentration (ppb)')\n",
    "plt.title('Global Map of Methane (CH4) Levels')\n",
    "plt.xlabel('Longitude')\n",
    "plt.ylabel('Latitude')\n",
    "plt.show()\n",
    "#4.2.2\n",
    "lon_min, lon_max, lat_min, lat_max = 73, 135, 18, 54 #中国的经纬度范围\n",
    "fig = plt.figure(figsize=(14, 7))\n",
    "ax = fig.add_subplot(1, 1, 1, projection=ccrs.PlateCarree())\n",
    "ax.set_extent([lon_min, lon_max, lat_min, lat_max], crs=ccrs.PlateCarree())\n",
    "ax.add_feature(cfeature.LAND)\n",
    "ax.add_feature(cfeature.OCEAN)\n",
    "ax.add_feature(cfeature.COASTLINE)\n",
    "ax.add_feature(cfeature.BORDERS, linestyle=':')\n",
    "ax.gridlines(draw_labels=True)\n",
    "cbar = ax.pcolormesh(lons, lats, xch4, transform=ccrs.PlateCarree(), cmap='Reds')\n",
    "plt.colorbar(cbar, ax=ax, orientation='vertical', shrink=0.5, label='CH4 Concentration (ppb)')\n",
    "plt.title('Regional Map of Methane (CH4) Levels')\n",
    "plt.xlabel('Longitude')\n",
    "plt.ylabel('Latitude')\n",
    "plt.show()"
   ]
  }
 ],
 "metadata": {
  "kernelspec": {
   "display_name": "Python 3 (ipykernel)",
   "language": "python",
   "name": "python3"
  },
  "language_info": {
   "codemirror_mode": {
    "name": "ipython",
    "version": 3
   },
   "file_extension": ".py",
   "mimetype": "text/x-python",
   "name": "python",
   "nbconvert_exporter": "python",
   "pygments_lexer": "ipython3",
   "version": "3.12.3"
  }
 },
 "nbformat": 4,
 "nbformat_minor": 5
}
